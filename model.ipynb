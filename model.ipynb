{
 "cells": [
  {
   "cell_type": "code",
   "execution_count": 1,
   "metadata": {},
   "outputs": [],
   "source": [
    "import pandas as pd\n",
    "import numpy as np\n",
    "import matplotlib.pyplot as plt\n",
    "import seaborn as sns\n",
    "%matplotlib inline"
   ]
  },
  {
   "cell_type": "code",
   "execution_count": 2,
   "metadata": {},
   "outputs": [],
   "source": [
    "df=pd.read_csv(r'D:\\Synapse NIT-KKR\\Data\\train.csv')"
   ]
  },
  {
   "cell_type": "code",
   "execution_count": 3,
   "metadata": {},
   "outputs": [
    {
     "data": {
      "text/plain": [
       "(5000, 17)"
      ]
     },
     "execution_count": 3,
     "metadata": {},
     "output_type": "execute_result"
    }
   ],
   "source": [
    "df.shape"
   ]
  },
  {
   "cell_type": "code",
   "execution_count": 4,
   "metadata": {},
   "outputs": [
    {
     "data": {
      "text/html": [
       "<div>\n",
       "<style scoped>\n",
       "    .dataframe tbody tr th:only-of-type {\n",
       "        vertical-align: middle;\n",
       "    }\n",
       "\n",
       "    .dataframe tbody tr th {\n",
       "        vertical-align: top;\n",
       "    }\n",
       "\n",
       "    .dataframe thead th {\n",
       "        text-align: right;\n",
       "    }\n",
       "</style>\n",
       "<table border=\"1\" class=\"dataframe\">\n",
       "  <thead>\n",
       "    <tr style=\"text-align: right;\">\n",
       "      <th></th>\n",
       "      <th>ID</th>\n",
       "      <th>PERFORMANCE_INDEX</th>\n",
       "      <th>EMISSIONS_CO2</th>\n",
       "      <th>URBAN_CONSUMPTION</th>\n",
       "      <th>DISPLACEMENT</th>\n",
       "      <th>CAPACITY</th>\n",
       "      <th>PISTON_COUNT</th>\n",
       "      <th>BLENDED_CONSUMPTION</th>\n",
       "      <th>GEARBOX_TYPE</th>\n",
       "      <th>OUTPUT</th>\n",
       "      <th>BODY_STYLE</th>\n",
       "      <th>EFFICIENCY_RATIO</th>\n",
       "      <th>YEARS_IN_SERVICE</th>\n",
       "      <th>MILEAGE</th>\n",
       "      <th>HIGHWAY_USAGE</th>\n",
       "      <th>ENERGY_SOURCE</th>\n",
       "      <th>EFFICIENCY_RATING</th>\n",
       "    </tr>\n",
       "  </thead>\n",
       "  <tbody>\n",
       "    <tr>\n",
       "      <th>0</th>\n",
       "      <td>0</td>\n",
       "      <td>74.595588</td>\n",
       "      <td>149.0</td>\n",
       "      <td>8.3</td>\n",
       "      <td>2.0</td>\n",
       "      <td>5.0</td>\n",
       "      <td>4.0</td>\n",
       "      <td>7.9</td>\n",
       "      <td>Manual</td>\n",
       "      <td>87.0</td>\n",
       "      <td>COMPACT</td>\n",
       "      <td>1.60</td>\n",
       "      <td>10.0</td>\n",
       "      <td>17.0</td>\n",
       "      <td>5.6</td>\n",
       "      <td>Petrol</td>\n",
       "      <td>39.0</td>\n",
       "    </tr>\n",
       "    <tr>\n",
       "      <th>1</th>\n",
       "      <td>1</td>\n",
       "      <td>62.338357</td>\n",
       "      <td>262.0</td>\n",
       "      <td>22.5</td>\n",
       "      <td>3.6</td>\n",
       "      <td>15.0</td>\n",
       "      <td>6.0</td>\n",
       "      <td>16.5</td>\n",
       "      <td>Automatic</td>\n",
       "      <td>163.0</td>\n",
       "      <td>SUV - SMALL</td>\n",
       "      <td>1.52</td>\n",
       "      <td>10.0</td>\n",
       "      <td>19.0</td>\n",
       "      <td>12.3</td>\n",
       "      <td>Petrol</td>\n",
       "      <td>23.0</td>\n",
       "    </tr>\n",
       "    <tr>\n",
       "      <th>2</th>\n",
       "      <td>2</td>\n",
       "      <td>72.105592</td>\n",
       "      <td>204.0</td>\n",
       "      <td>11.7</td>\n",
       "      <td>2.8</td>\n",
       "      <td>5.0</td>\n",
       "      <td>6.0</td>\n",
       "      <td>10.0</td>\n",
       "      <td>Automatic</td>\n",
       "      <td>172.0</td>\n",
       "      <td>MID-SIZE</td>\n",
       "      <td>1.59</td>\n",
       "      <td>10.0</td>\n",
       "      <td>18.0</td>\n",
       "      <td>10.4</td>\n",
       "      <td>Gas</td>\n",
       "      <td>30.0</td>\n",
       "    </tr>\n",
       "    <tr>\n",
       "      <th>3</th>\n",
       "      <td>3</td>\n",
       "      <td>86.706104</td>\n",
       "      <td>301.0</td>\n",
       "      <td>23.4</td>\n",
       "      <td>5.7</td>\n",
       "      <td>14.0</td>\n",
       "      <td>8.0</td>\n",
       "      <td>13.9</td>\n",
       "      <td>Automatic</td>\n",
       "      <td>286.0</td>\n",
       "      <td>PICKUP TRUCK - STANDARD</td>\n",
       "      <td>1.42</td>\n",
       "      <td>10.0</td>\n",
       "      <td>19.0</td>\n",
       "      <td>13.6</td>\n",
       "      <td>Petrol</td>\n",
       "      <td>28.0</td>\n",
       "    </tr>\n",
       "    <tr>\n",
       "      <th>4</th>\n",
       "      <td>4</td>\n",
       "      <td>104.793985</td>\n",
       "      <td>375.0</td>\n",
       "      <td>20.5</td>\n",
       "      <td>2.2</td>\n",
       "      <td>5.0</td>\n",
       "      <td>4.0</td>\n",
       "      <td>11.9</td>\n",
       "      <td>Manual</td>\n",
       "      <td>118.0</td>\n",
       "      <td>MID-SIZE</td>\n",
       "      <td>1.54</td>\n",
       "      <td>10.0</td>\n",
       "      <td>19.0</td>\n",
       "      <td>9.7</td>\n",
       "      <td>Petrol</td>\n",
       "      <td>26.0</td>\n",
       "    </tr>\n",
       "  </tbody>\n",
       "</table>\n",
       "</div>"
      ],
      "text/plain": [
       "   ID  PERFORMANCE_INDEX  EMISSIONS_CO2  URBAN_CONSUMPTION  DISPLACEMENT  \\\n",
       "0   0          74.595588          149.0                8.3           2.0   \n",
       "1   1          62.338357          262.0               22.5           3.6   \n",
       "2   2          72.105592          204.0               11.7           2.8   \n",
       "3   3          86.706104          301.0               23.4           5.7   \n",
       "4   4         104.793985          375.0               20.5           2.2   \n",
       "\n",
       "   CAPACITY  PISTON_COUNT  BLENDED_CONSUMPTION GEARBOX_TYPE  OUTPUT  \\\n",
       "0       5.0           4.0                  7.9       Manual    87.0   \n",
       "1      15.0           6.0                 16.5    Automatic   163.0   \n",
       "2       5.0           6.0                 10.0    Automatic   172.0   \n",
       "3      14.0           8.0                 13.9    Automatic   286.0   \n",
       "4       5.0           4.0                 11.9       Manual   118.0   \n",
       "\n",
       "                BODY_STYLE  EFFICIENCY_RATIO  YEARS_IN_SERVICE  MILEAGE  \\\n",
       "0                  COMPACT              1.60              10.0     17.0   \n",
       "1              SUV - SMALL              1.52              10.0     19.0   \n",
       "2                 MID-SIZE              1.59              10.0     18.0   \n",
       "3  PICKUP TRUCK - STANDARD              1.42              10.0     19.0   \n",
       "4                 MID-SIZE              1.54              10.0     19.0   \n",
       "\n",
       "   HIGHWAY_USAGE ENERGY_SOURCE  EFFICIENCY_RATING  \n",
       "0            5.6        Petrol               39.0  \n",
       "1           12.3        Petrol               23.0  \n",
       "2           10.4           Gas               30.0  \n",
       "3           13.6        Petrol               28.0  \n",
       "4            9.7        Petrol               26.0  "
      ]
     },
     "execution_count": 4,
     "metadata": {},
     "output_type": "execute_result"
    }
   ],
   "source": [
    "df.head()"
   ]
  },
  {
   "cell_type": "code",
   "execution_count": 5,
   "metadata": {},
   "outputs": [
    {
     "data": {
      "text/html": [
       "<div>\n",
       "<style scoped>\n",
       "    .dataframe tbody tr th:only-of-type {\n",
       "        vertical-align: middle;\n",
       "    }\n",
       "\n",
       "    .dataframe tbody tr th {\n",
       "        vertical-align: top;\n",
       "    }\n",
       "\n",
       "    .dataframe thead th {\n",
       "        text-align: right;\n",
       "    }\n",
       "</style>\n",
       "<table border=\"1\" class=\"dataframe\">\n",
       "  <thead>\n",
       "    <tr style=\"text-align: right;\">\n",
       "      <th></th>\n",
       "      <th>ID</th>\n",
       "      <th>PERFORMANCE_INDEX</th>\n",
       "      <th>EMISSIONS_CO2</th>\n",
       "      <th>URBAN_CONSUMPTION</th>\n",
       "      <th>DISPLACEMENT</th>\n",
       "      <th>CAPACITY</th>\n",
       "      <th>PISTON_COUNT</th>\n",
       "      <th>BLENDED_CONSUMPTION</th>\n",
       "      <th>GEARBOX_TYPE</th>\n",
       "      <th>OUTPUT</th>\n",
       "      <th>BODY_STYLE</th>\n",
       "      <th>EFFICIENCY_RATIO</th>\n",
       "      <th>YEARS_IN_SERVICE</th>\n",
       "      <th>MILEAGE</th>\n",
       "      <th>HIGHWAY_USAGE</th>\n",
       "      <th>ENERGY_SOURCE</th>\n",
       "      <th>EFFICIENCY_RATING</th>\n",
       "    </tr>\n",
       "  </thead>\n",
       "  <tbody>\n",
       "    <tr>\n",
       "      <th>4995</th>\n",
       "      <td>4995</td>\n",
       "      <td>113.241839</td>\n",
       "      <td>311.0</td>\n",
       "      <td>16.1</td>\n",
       "      <td>5.1</td>\n",
       "      <td>7.0</td>\n",
       "      <td>6.0</td>\n",
       "      <td>9.6</td>\n",
       "      <td>Automatic</td>\n",
       "      <td>264.0</td>\n",
       "      <td>MID-SIZE</td>\n",
       "      <td>1.31</td>\n",
       "      <td>10.0</td>\n",
       "      <td>19.0</td>\n",
       "      <td>7.3</td>\n",
       "      <td>Petrol</td>\n",
       "      <td>27.0</td>\n",
       "    </tr>\n",
       "    <tr>\n",
       "      <th>4996</th>\n",
       "      <td>4996</td>\n",
       "      <td>103.952918</td>\n",
       "      <td>286.0</td>\n",
       "      <td>18.5</td>\n",
       "      <td>3.5</td>\n",
       "      <td>7.0</td>\n",
       "      <td>8.0</td>\n",
       "      <td>15.1</td>\n",
       "      <td>Automatic</td>\n",
       "      <td>266.0</td>\n",
       "      <td>FULL-SIZE</td>\n",
       "      <td>1.47</td>\n",
       "      <td>10.0</td>\n",
       "      <td>17.0</td>\n",
       "      <td>12.9</td>\n",
       "      <td>Petrol</td>\n",
       "      <td>20.0</td>\n",
       "    </tr>\n",
       "    <tr>\n",
       "      <th>4997</th>\n",
       "      <td>4997</td>\n",
       "      <td>64.741667</td>\n",
       "      <td>225.0</td>\n",
       "      <td>10.5</td>\n",
       "      <td>1.4</td>\n",
       "      <td>4.0</td>\n",
       "      <td>4.0</td>\n",
       "      <td>6.1</td>\n",
       "      <td>Automatic</td>\n",
       "      <td>87.0</td>\n",
       "      <td>MID-SIZE</td>\n",
       "      <td>1.33</td>\n",
       "      <td>10.0</td>\n",
       "      <td>17.0</td>\n",
       "      <td>6.8</td>\n",
       "      <td>Diesel</td>\n",
       "      <td>31.0</td>\n",
       "    </tr>\n",
       "    <tr>\n",
       "      <th>4998</th>\n",
       "      <td>4998</td>\n",
       "      <td>78.366368</td>\n",
       "      <td>233.0</td>\n",
       "      <td>9.8</td>\n",
       "      <td>3.1</td>\n",
       "      <td>5.0</td>\n",
       "      <td>4.0</td>\n",
       "      <td>8.7</td>\n",
       "      <td>Automatic</td>\n",
       "      <td>115.0</td>\n",
       "      <td>MID-SIZE</td>\n",
       "      <td>1.63</td>\n",
       "      <td>10.0</td>\n",
       "      <td>16.0</td>\n",
       "      <td>7.0</td>\n",
       "      <td>Gas</td>\n",
       "      <td>33.0</td>\n",
       "    </tr>\n",
       "    <tr>\n",
       "      <th>4999</th>\n",
       "      <td>4999</td>\n",
       "      <td>63.077954</td>\n",
       "      <td>264.0</td>\n",
       "      <td>9.2</td>\n",
       "      <td>3.3</td>\n",
       "      <td>5.0</td>\n",
       "      <td>6.0</td>\n",
       "      <td>12.2</td>\n",
       "      <td>Automatic</td>\n",
       "      <td>146.0</td>\n",
       "      <td>COMPACT</td>\n",
       "      <td>1.51</td>\n",
       "      <td>10.0</td>\n",
       "      <td>17.0</td>\n",
       "      <td>11.7</td>\n",
       "      <td>Petrol</td>\n",
       "      <td>12.0</td>\n",
       "    </tr>\n",
       "  </tbody>\n",
       "</table>\n",
       "</div>"
      ],
      "text/plain": [
       "        ID  PERFORMANCE_INDEX  EMISSIONS_CO2  URBAN_CONSUMPTION  DISPLACEMENT  \\\n",
       "4995  4995         113.241839          311.0               16.1           5.1   \n",
       "4996  4996         103.952918          286.0               18.5           3.5   \n",
       "4997  4997          64.741667          225.0               10.5           1.4   \n",
       "4998  4998          78.366368          233.0                9.8           3.1   \n",
       "4999  4999          63.077954          264.0                9.2           3.3   \n",
       "\n",
       "      CAPACITY  PISTON_COUNT  BLENDED_CONSUMPTION GEARBOX_TYPE  OUTPUT  \\\n",
       "4995       7.0           6.0                  9.6    Automatic   264.0   \n",
       "4996       7.0           8.0                 15.1    Automatic   266.0   \n",
       "4997       4.0           4.0                  6.1    Automatic    87.0   \n",
       "4998       5.0           4.0                  8.7    Automatic   115.0   \n",
       "4999       5.0           6.0                 12.2    Automatic   146.0   \n",
       "\n",
       "     BODY_STYLE  EFFICIENCY_RATIO  YEARS_IN_SERVICE  MILEAGE  HIGHWAY_USAGE  \\\n",
       "4995   MID-SIZE              1.31              10.0     19.0            7.3   \n",
       "4996  FULL-SIZE              1.47              10.0     17.0           12.9   \n",
       "4997   MID-SIZE              1.33              10.0     17.0            6.8   \n",
       "4998   MID-SIZE              1.63              10.0     16.0            7.0   \n",
       "4999    COMPACT              1.51              10.0     17.0           11.7   \n",
       "\n",
       "     ENERGY_SOURCE  EFFICIENCY_RATING  \n",
       "4995        Petrol               27.0  \n",
       "4996        Petrol               20.0  \n",
       "4997        Diesel               31.0  \n",
       "4998           Gas               33.0  \n",
       "4999        Petrol               12.0  "
      ]
     },
     "execution_count": 5,
     "metadata": {},
     "output_type": "execute_result"
    }
   ],
   "source": [
    "df.tail()"
   ]
  },
  {
   "cell_type": "code",
   "execution_count": 6,
   "metadata": {},
   "outputs": [
    {
     "name": "stdout",
     "output_type": "stream",
     "text": [
      "<class 'pandas.core.frame.DataFrame'>\n",
      "RangeIndex: 5000 entries, 0 to 4999\n",
      "Data columns (total 17 columns):\n",
      " #   Column               Non-Null Count  Dtype  \n",
      "---  ------               --------------  -----  \n",
      " 0   ID                   5000 non-null   int64  \n",
      " 1   PERFORMANCE_INDEX    4981 non-null   float64\n",
      " 2   EMISSIONS_CO2        4995 non-null   float64\n",
      " 3   URBAN_CONSUMPTION    4996 non-null   float64\n",
      " 4   DISPLACEMENT         4994 non-null   float64\n",
      " 5   CAPACITY             4999 non-null   float64\n",
      " 6   PISTON_COUNT         4993 non-null   float64\n",
      " 7   BLENDED_CONSUMPTION  4996 non-null   float64\n",
      " 8   GEARBOX_TYPE         5000 non-null   object \n",
      " 9   OUTPUT               4998 non-null   float64\n",
      " 10  BODY_STYLE           5000 non-null   object \n",
      " 11  EFFICIENCY_RATIO     4996 non-null   float64\n",
      " 12  YEARS_IN_SERVICE     4998 non-null   float64\n",
      " 13  MILEAGE              4995 non-null   float64\n",
      " 14  HIGHWAY_USAGE        4995 non-null   float64\n",
      " 15  ENERGY_SOURCE        5000 non-null   object \n",
      " 16  EFFICIENCY_RATING    5000 non-null   float64\n",
      "dtypes: float64(13), int64(1), object(3)\n",
      "memory usage: 664.2+ KB\n"
     ]
    }
   ],
   "source": [
    "df.info()"
   ]
  },
  {
   "cell_type": "code",
   "execution_count": 7,
   "metadata": {},
   "outputs": [
    {
     "data": {
      "text/plain": [
       "ID                      0\n",
       "PERFORMANCE_INDEX      19\n",
       "EMISSIONS_CO2           5\n",
       "URBAN_CONSUMPTION       4\n",
       "DISPLACEMENT            6\n",
       "CAPACITY                1\n",
       "PISTON_COUNT            7\n",
       "BLENDED_CONSUMPTION     4\n",
       "GEARBOX_TYPE            0\n",
       "OUTPUT                  2\n",
       "BODY_STYLE              0\n",
       "EFFICIENCY_RATIO        4\n",
       "YEARS_IN_SERVICE        2\n",
       "MILEAGE                 5\n",
       "HIGHWAY_USAGE           5\n",
       "ENERGY_SOURCE           0\n",
       "EFFICIENCY_RATING       0\n",
       "dtype: int64"
      ]
     },
     "execution_count": 7,
     "metadata": {},
     "output_type": "execute_result"
    }
   ],
   "source": [
    "df.isnull().sum()"
   ]
  },
  {
   "cell_type": "code",
   "execution_count": 8,
   "metadata": {},
   "outputs": [],
   "source": [
    "# Remove rows wwith null values \n",
    "df =df.dropna().reset_index(drop=True)"
   ]
  },
  {
   "cell_type": "code",
   "execution_count": 9,
   "metadata": {},
   "outputs": [
    {
     "data": {
      "text/html": [
       "<div>\n",
       "<style scoped>\n",
       "    .dataframe tbody tr th:only-of-type {\n",
       "        vertical-align: middle;\n",
       "    }\n",
       "\n",
       "    .dataframe tbody tr th {\n",
       "        vertical-align: top;\n",
       "    }\n",
       "\n",
       "    .dataframe thead th {\n",
       "        text-align: right;\n",
       "    }\n",
       "</style>\n",
       "<table border=\"1\" class=\"dataframe\">\n",
       "  <thead>\n",
       "    <tr style=\"text-align: right;\">\n",
       "      <th></th>\n",
       "      <th>ID</th>\n",
       "      <th>PERFORMANCE_INDEX</th>\n",
       "      <th>EMISSIONS_CO2</th>\n",
       "      <th>URBAN_CONSUMPTION</th>\n",
       "      <th>DISPLACEMENT</th>\n",
       "      <th>CAPACITY</th>\n",
       "      <th>PISTON_COUNT</th>\n",
       "      <th>BLENDED_CONSUMPTION</th>\n",
       "      <th>GEARBOX_TYPE</th>\n",
       "      <th>OUTPUT</th>\n",
       "      <th>BODY_STYLE</th>\n",
       "      <th>EFFICIENCY_RATIO</th>\n",
       "      <th>YEARS_IN_SERVICE</th>\n",
       "      <th>MILEAGE</th>\n",
       "      <th>HIGHWAY_USAGE</th>\n",
       "      <th>ENERGY_SOURCE</th>\n",
       "      <th>EFFICIENCY_RATING</th>\n",
       "    </tr>\n",
       "  </thead>\n",
       "  <tbody>\n",
       "  </tbody>\n",
       "</table>\n",
       "</div>"
      ],
      "text/plain": [
       "Empty DataFrame\n",
       "Columns: [ID, PERFORMANCE_INDEX, EMISSIONS_CO2, URBAN_CONSUMPTION, DISPLACEMENT, CAPACITY, PISTON_COUNT, BLENDED_CONSUMPTION, GEARBOX_TYPE, OUTPUT, BODY_STYLE, EFFICIENCY_RATIO, YEARS_IN_SERVICE, MILEAGE, HIGHWAY_USAGE, ENERGY_SOURCE, EFFICIENCY_RATING]\n",
       "Index: []"
      ]
     },
     "execution_count": 9,
     "metadata": {},
     "output_type": "execute_result"
    }
   ],
   "source": [
    "#  Remove columns which has null values\n",
    "df[df.isnull().any(axis=1)]"
   ]
  },
  {
   "cell_type": "code",
   "execution_count": 10,
   "metadata": {},
   "outputs": [
    {
     "data": {
      "text/plain": [
       "(4938, 17)"
      ]
     },
     "execution_count": 10,
     "metadata": {},
     "output_type": "execute_result"
    }
   ],
   "source": [
    "df.shape"
   ]
  },
  {
   "cell_type": "code",
   "execution_count": 11,
   "metadata": {},
   "outputs": [
    {
     "data": {
      "text/plain": [
       "ID                     0\n",
       "PERFORMANCE_INDEX      0\n",
       "EMISSIONS_CO2          0\n",
       "URBAN_CONSUMPTION      0\n",
       "DISPLACEMENT           0\n",
       "CAPACITY               0\n",
       "PISTON_COUNT           0\n",
       "BLENDED_CONSUMPTION    0\n",
       "GEARBOX_TYPE           0\n",
       "OUTPUT                 0\n",
       "BODY_STYLE             0\n",
       "EFFICIENCY_RATIO       0\n",
       "YEARS_IN_SERVICE       0\n",
       "MILEAGE                0\n",
       "HIGHWAY_USAGE          0\n",
       "ENERGY_SOURCE          0\n",
       "EFFICIENCY_RATING      0\n",
       "dtype: int64"
      ]
     },
     "execution_count": 11,
     "metadata": {},
     "output_type": "execute_result"
    }
   ],
   "source": [
    "df.isnull().sum()"
   ]
  },
  {
   "cell_type": "code",
   "execution_count": 12,
   "metadata": {},
   "outputs": [
    {
     "data": {
      "text/plain": [
       "array(['Manual', 'Automatic', 'eMr'], dtype=object)"
      ]
     },
     "execution_count": 12,
     "metadata": {},
     "output_type": "execute_result"
    }
   ],
   "source": [
    "df['GEARBOX_TYPE'].unique()"
   ]
  },
  {
   "cell_type": "code",
   "execution_count": 25,
   "metadata": {},
   "outputs": [
    {
     "name": "stdout",
     "output_type": "stream",
     "text": [
      "2\n"
     ]
    }
   ],
   "source": [
    "gearbox_counts = df['GEARBOX_TYPE'].value_counts()\n",
    "count_emr = gearbox_counts.get('eMr', 0) \n",
    "print(count_emr)"
   ]
  },
  {
   "cell_type": "markdown",
   "metadata": {},
   "source": [
    "#### FROM ABOVE, WE CAN SEE THAT THERE ARE 3 UNIQUE TYPES OF 'GEARBOX_TYPE'\n",
    "#### --> ['Manual', 'Automatic', 'eMr']"
   ]
  },
  {
   "cell_type": "code",
   "execution_count": 13,
   "metadata": {},
   "outputs": [
    {
     "data": {
      "text/plain": [
       "array(['COMPACT', 'SUV - SMALL', 'MID-SIZE', 'PICKUP TRUCK - STANDARD',\n",
       "       'TWO-SEATER', 'FULL-SIZE', 'MINICOMPACT', 'MINIVAN', 'SUBCOMPACT',\n",
       "       'SPECIAL PURPOSE VEHICLE', 'STATION WAGON - SMALL',\n",
       "       'SUV - STANDARD', 'VAN - CARGO', 'VAN - PASSENGER',\n",
       "       'STATION WAGON - MID-SIZE', 'PICKUP TRUCK - SMALL'], dtype=object)"
      ]
     },
     "execution_count": 13,
     "metadata": {},
     "output_type": "execute_result"
    }
   ],
   "source": [
    "df['BODY_STYLE'].unique()"
   ]
  },
  {
   "cell_type": "code",
   "execution_count": 14,
   "metadata": {},
   "outputs": [
    {
     "data": {
      "text/plain": [
       "16"
      ]
     },
     "execution_count": 14,
     "metadata": {},
     "output_type": "execute_result"
    }
   ],
   "source": [
    "df['BODY_STYLE'].nunique()"
   ]
  },
  {
   "cell_type": "markdown",
   "metadata": {},
   "source": [
    "#### FROM ABOVE, WE CAN SEE THAT THERE ARE 16 UNIQUE TYPES OF 'BODY_STYLE'\n",
    "#### --> ['COMPACT', 'SUV - SMALL', 'MID-SIZE', 'PICKUP TRUCK - STANDARD','TWO-SEATER', 'FULL-SIZE', 'MINICOMPACT', 'MINIVAN', 'SUBCOMPACT','SUV - STANDARD', 'SPECIAL PURPOSE VEHICLE','STATION WAGON - SMALL', 'VAN - CARGO', 'VAN - PASSENGER','STATION WAGON - MID-SIZE', 'PICKUP TRUCK - SMALL']"
   ]
  },
  {
   "cell_type": "code",
   "execution_count": 15,
   "metadata": {},
   "outputs": [
    {
     "data": {
      "text/plain": [
       "array(['Petrol', 'Gas', 'Diesel', '\"247234.3039\"'], dtype=object)"
      ]
     },
     "execution_count": 15,
     "metadata": {},
     "output_type": "execute_result"
    }
   ],
   "source": [
    "df['ENERGY_SOURCE'].unique()"
   ]
  },
  {
   "cell_type": "code",
   "execution_count": 16,
   "metadata": {},
   "outputs": [
    {
     "data": {
      "text/plain": [
       "4"
      ]
     },
     "execution_count": 16,
     "metadata": {},
     "output_type": "execute_result"
    }
   ],
   "source": [
    "df['ENERGY_SOURCE'].nunique()"
   ]
  },
  {
   "cell_type": "markdown",
   "metadata": {},
   "source": [
    "#### FROM ABOVE, WE CAN SEE THAT THERE ARE 4 UNIQUE TYPES OF 'ENERGY_SOURCE'\n",
    "#### --> ['Petrol', 'Gas', 'Diesel', '\"247234.3039\"']"
   ]
  },
  {
   "cell_type": "code",
   "execution_count": 17,
   "metadata": {},
   "outputs": [
    {
     "data": {
      "text/plain": [
       "ENERGY_SOURCE\n",
       "Petrol           2797\n",
       "Gas              1985\n",
       "Diesel            155\n",
       "\"247234.3039\"       1\n",
       "Name: count, dtype: int64"
      ]
     },
     "execution_count": 17,
     "metadata": {},
     "output_type": "execute_result"
    }
   ],
   "source": [
    "energy_source_counts = df['ENERGY_SOURCE'].value_counts()\n",
    "energy_source_counts"
   ]
  },
  {
   "cell_type": "markdown",
   "metadata": {},
   "source": [
    "#### FROM ABOVE CODE AS YOU CAN SEE, THERE'S ONE OUTLIER i.e. \"247234.3039\". BUT FOR NOW WE'LL IGNORE IT AS IT WILL BE FIXED IN OUTLIER DETECTION"
   ]
  },
  {
   "cell_type": "code",
   "execution_count": 18,
   "metadata": {},
   "outputs": [],
   "source": [
    "df = df[df['ENERGY_SOURCE'] != '\"247234.3039\"'].reset_index(drop=True)"
   ]
  },
  {
   "cell_type": "code",
   "execution_count": 19,
   "metadata": {},
   "outputs": [
    {
     "data": {
      "text/plain": [
       "3"
      ]
     },
     "execution_count": 19,
     "metadata": {},
     "output_type": "execute_result"
    }
   ],
   "source": [
    "df['ENERGY_SOURCE'].nunique()"
   ]
  },
  {
   "cell_type": "code",
   "execution_count": 20,
   "metadata": {},
   "outputs": [
    {
     "data": {
      "text/plain": [
       "Index(['ID', 'PERFORMANCE_INDEX', 'EMISSIONS_CO2', 'URBAN_CONSUMPTION',\n",
       "       'DISPLACEMENT', 'CAPACITY', 'PISTON_COUNT', 'BLENDED_CONSUMPTION',\n",
       "       'GEARBOX_TYPE', 'OUTPUT', 'BODY_STYLE', 'EFFICIENCY_RATIO',\n",
       "       'YEARS_IN_SERVICE', 'MILEAGE', 'HIGHWAY_USAGE', 'ENERGY_SOURCE',\n",
       "       'EFFICIENCY_RATING'],\n",
       "      dtype='object')"
      ]
     },
     "execution_count": 20,
     "metadata": {},
     "output_type": "execute_result"
    }
   ],
   "source": [
    "df.columns"
   ]
  },
  {
   "cell_type": "code",
   "execution_count": 21,
   "metadata": {},
   "outputs": [
    {
     "data": {
      "text/plain": [
       "Index(['ID', 'PERFORMANCE_INDEX', 'EMISSIONS_CO2', 'URBAN_CONSUMPTION',\n",
       "       'DISPLACEMENT', 'CAPACITY', 'PISTON_COUNT', 'BLENDED_CONSUMPTION',\n",
       "       'GEARBOX_TYPE', 'OUTPUT', 'BODY_STYLE', 'EFFICIENCY_RATIO',\n",
       "       'YEARS_IN_SERVICE', 'MILEAGE', 'HIGHWAY_USAGE', 'ENERGY_SOURCE',\n",
       "       'EFFICIENCY_RATING'],\n",
       "      dtype='object')"
      ]
     },
     "execution_count": 21,
     "metadata": {},
     "output_type": "execute_result"
    }
   ],
   "source": [
    "## Spaces were fixed in the column names\n",
    "df.columns=df.columns.str.strip()\n",
    "df.columns"
   ]
  },
  {
   "cell_type": "code",
   "execution_count": 22,
   "metadata": {},
   "outputs": [
    {
     "data": {
      "text/html": [
       "<div>\n",
       "<style scoped>\n",
       "    .dataframe tbody tr th:only-of-type {\n",
       "        vertical-align: middle;\n",
       "    }\n",
       "\n",
       "    .dataframe tbody tr th {\n",
       "        vertical-align: top;\n",
       "    }\n",
       "\n",
       "    .dataframe thead th {\n",
       "        text-align: right;\n",
       "    }\n",
       "</style>\n",
       "<table border=\"1\" class=\"dataframe\">\n",
       "  <thead>\n",
       "    <tr style=\"text-align: right;\">\n",
       "      <th></th>\n",
       "      <th>ID</th>\n",
       "      <th>PERFORMANCE_INDEX</th>\n",
       "      <th>EMISSIONS_CO2</th>\n",
       "      <th>URBAN_CONSUMPTION</th>\n",
       "      <th>DISPLACEMENT</th>\n",
       "      <th>CAPACITY</th>\n",
       "      <th>PISTON_COUNT</th>\n",
       "      <th>BLENDED_CONSUMPTION</th>\n",
       "      <th>GEARBOX_TYPE</th>\n",
       "      <th>OUTPUT</th>\n",
       "      <th>BODY_STYLE</th>\n",
       "      <th>EFFICIENCY_RATIO</th>\n",
       "      <th>YEARS_IN_SERVICE</th>\n",
       "      <th>MILEAGE</th>\n",
       "      <th>HIGHWAY_USAGE</th>\n",
       "      <th>ENERGY_SOURCE</th>\n",
       "      <th>EFFICIENCY_RATING</th>\n",
       "    </tr>\n",
       "  </thead>\n",
       "  <tbody>\n",
       "    <tr>\n",
       "      <th>0</th>\n",
       "      <td>0</td>\n",
       "      <td>74.595588</td>\n",
       "      <td>149.0</td>\n",
       "      <td>8.3</td>\n",
       "      <td>2.0</td>\n",
       "      <td>5.0</td>\n",
       "      <td>4.0</td>\n",
       "      <td>7.9</td>\n",
       "      <td>Manual</td>\n",
       "      <td>87.0</td>\n",
       "      <td>COMPACT</td>\n",
       "      <td>1.60</td>\n",
       "      <td>10.0</td>\n",
       "      <td>17.0</td>\n",
       "      <td>5.6</td>\n",
       "      <td>Petrol</td>\n",
       "      <td>39.0</td>\n",
       "    </tr>\n",
       "    <tr>\n",
       "      <th>1</th>\n",
       "      <td>1</td>\n",
       "      <td>62.338357</td>\n",
       "      <td>262.0</td>\n",
       "      <td>22.5</td>\n",
       "      <td>3.6</td>\n",
       "      <td>15.0</td>\n",
       "      <td>6.0</td>\n",
       "      <td>16.5</td>\n",
       "      <td>Automatic</td>\n",
       "      <td>163.0</td>\n",
       "      <td>SUV - SMALL</td>\n",
       "      <td>1.52</td>\n",
       "      <td>10.0</td>\n",
       "      <td>19.0</td>\n",
       "      <td>12.3</td>\n",
       "      <td>Petrol</td>\n",
       "      <td>23.0</td>\n",
       "    </tr>\n",
       "    <tr>\n",
       "      <th>2</th>\n",
       "      <td>2</td>\n",
       "      <td>72.105592</td>\n",
       "      <td>204.0</td>\n",
       "      <td>11.7</td>\n",
       "      <td>2.8</td>\n",
       "      <td>5.0</td>\n",
       "      <td>6.0</td>\n",
       "      <td>10.0</td>\n",
       "      <td>Automatic</td>\n",
       "      <td>172.0</td>\n",
       "      <td>MID-SIZE</td>\n",
       "      <td>1.59</td>\n",
       "      <td>10.0</td>\n",
       "      <td>18.0</td>\n",
       "      <td>10.4</td>\n",
       "      <td>Gas</td>\n",
       "      <td>30.0</td>\n",
       "    </tr>\n",
       "    <tr>\n",
       "      <th>3</th>\n",
       "      <td>3</td>\n",
       "      <td>86.706104</td>\n",
       "      <td>301.0</td>\n",
       "      <td>23.4</td>\n",
       "      <td>5.7</td>\n",
       "      <td>14.0</td>\n",
       "      <td>8.0</td>\n",
       "      <td>13.9</td>\n",
       "      <td>Automatic</td>\n",
       "      <td>286.0</td>\n",
       "      <td>PICKUP TRUCK - STANDARD</td>\n",
       "      <td>1.42</td>\n",
       "      <td>10.0</td>\n",
       "      <td>19.0</td>\n",
       "      <td>13.6</td>\n",
       "      <td>Petrol</td>\n",
       "      <td>28.0</td>\n",
       "    </tr>\n",
       "    <tr>\n",
       "      <th>4</th>\n",
       "      <td>4</td>\n",
       "      <td>104.793985</td>\n",
       "      <td>375.0</td>\n",
       "      <td>20.5</td>\n",
       "      <td>2.2</td>\n",
       "      <td>5.0</td>\n",
       "      <td>4.0</td>\n",
       "      <td>11.9</td>\n",
       "      <td>Manual</td>\n",
       "      <td>118.0</td>\n",
       "      <td>MID-SIZE</td>\n",
       "      <td>1.54</td>\n",
       "      <td>10.0</td>\n",
       "      <td>19.0</td>\n",
       "      <td>9.7</td>\n",
       "      <td>Petrol</td>\n",
       "      <td>26.0</td>\n",
       "    </tr>\n",
       "    <tr>\n",
       "      <th>...</th>\n",
       "      <td>...</td>\n",
       "      <td>...</td>\n",
       "      <td>...</td>\n",
       "      <td>...</td>\n",
       "      <td>...</td>\n",
       "      <td>...</td>\n",
       "      <td>...</td>\n",
       "      <td>...</td>\n",
       "      <td>...</td>\n",
       "      <td>...</td>\n",
       "      <td>...</td>\n",
       "      <td>...</td>\n",
       "      <td>...</td>\n",
       "      <td>...</td>\n",
       "      <td>...</td>\n",
       "      <td>...</td>\n",
       "      <td>...</td>\n",
       "    </tr>\n",
       "    <tr>\n",
       "      <th>4932</th>\n",
       "      <td>4995</td>\n",
       "      <td>113.241839</td>\n",
       "      <td>311.0</td>\n",
       "      <td>16.1</td>\n",
       "      <td>5.1</td>\n",
       "      <td>7.0</td>\n",
       "      <td>6.0</td>\n",
       "      <td>9.6</td>\n",
       "      <td>Automatic</td>\n",
       "      <td>264.0</td>\n",
       "      <td>MID-SIZE</td>\n",
       "      <td>1.31</td>\n",
       "      <td>10.0</td>\n",
       "      <td>19.0</td>\n",
       "      <td>7.3</td>\n",
       "      <td>Petrol</td>\n",
       "      <td>27.0</td>\n",
       "    </tr>\n",
       "    <tr>\n",
       "      <th>4933</th>\n",
       "      <td>4996</td>\n",
       "      <td>103.952918</td>\n",
       "      <td>286.0</td>\n",
       "      <td>18.5</td>\n",
       "      <td>3.5</td>\n",
       "      <td>7.0</td>\n",
       "      <td>8.0</td>\n",
       "      <td>15.1</td>\n",
       "      <td>Automatic</td>\n",
       "      <td>266.0</td>\n",
       "      <td>FULL-SIZE</td>\n",
       "      <td>1.47</td>\n",
       "      <td>10.0</td>\n",
       "      <td>17.0</td>\n",
       "      <td>12.9</td>\n",
       "      <td>Petrol</td>\n",
       "      <td>20.0</td>\n",
       "    </tr>\n",
       "    <tr>\n",
       "      <th>4934</th>\n",
       "      <td>4997</td>\n",
       "      <td>64.741667</td>\n",
       "      <td>225.0</td>\n",
       "      <td>10.5</td>\n",
       "      <td>1.4</td>\n",
       "      <td>4.0</td>\n",
       "      <td>4.0</td>\n",
       "      <td>6.1</td>\n",
       "      <td>Automatic</td>\n",
       "      <td>87.0</td>\n",
       "      <td>MID-SIZE</td>\n",
       "      <td>1.33</td>\n",
       "      <td>10.0</td>\n",
       "      <td>17.0</td>\n",
       "      <td>6.8</td>\n",
       "      <td>Diesel</td>\n",
       "      <td>31.0</td>\n",
       "    </tr>\n",
       "    <tr>\n",
       "      <th>4935</th>\n",
       "      <td>4998</td>\n",
       "      <td>78.366368</td>\n",
       "      <td>233.0</td>\n",
       "      <td>9.8</td>\n",
       "      <td>3.1</td>\n",
       "      <td>5.0</td>\n",
       "      <td>4.0</td>\n",
       "      <td>8.7</td>\n",
       "      <td>Automatic</td>\n",
       "      <td>115.0</td>\n",
       "      <td>MID-SIZE</td>\n",
       "      <td>1.63</td>\n",
       "      <td>10.0</td>\n",
       "      <td>16.0</td>\n",
       "      <td>7.0</td>\n",
       "      <td>Gas</td>\n",
       "      <td>33.0</td>\n",
       "    </tr>\n",
       "    <tr>\n",
       "      <th>4936</th>\n",
       "      <td>4999</td>\n",
       "      <td>63.077954</td>\n",
       "      <td>264.0</td>\n",
       "      <td>9.2</td>\n",
       "      <td>3.3</td>\n",
       "      <td>5.0</td>\n",
       "      <td>6.0</td>\n",
       "      <td>12.2</td>\n",
       "      <td>Automatic</td>\n",
       "      <td>146.0</td>\n",
       "      <td>COMPACT</td>\n",
       "      <td>1.51</td>\n",
       "      <td>10.0</td>\n",
       "      <td>17.0</td>\n",
       "      <td>11.7</td>\n",
       "      <td>Petrol</td>\n",
       "      <td>12.0</td>\n",
       "    </tr>\n",
       "  </tbody>\n",
       "</table>\n",
       "<p>4937 rows × 17 columns</p>\n",
       "</div>"
      ],
      "text/plain": [
       "        ID  PERFORMANCE_INDEX  EMISSIONS_CO2  URBAN_CONSUMPTION  DISPLACEMENT  \\\n",
       "0        0          74.595588          149.0                8.3           2.0   \n",
       "1        1          62.338357          262.0               22.5           3.6   \n",
       "2        2          72.105592          204.0               11.7           2.8   \n",
       "3        3          86.706104          301.0               23.4           5.7   \n",
       "4        4         104.793985          375.0               20.5           2.2   \n",
       "...    ...                ...            ...                ...           ...   \n",
       "4932  4995         113.241839          311.0               16.1           5.1   \n",
       "4933  4996         103.952918          286.0               18.5           3.5   \n",
       "4934  4997          64.741667          225.0               10.5           1.4   \n",
       "4935  4998          78.366368          233.0                9.8           3.1   \n",
       "4936  4999          63.077954          264.0                9.2           3.3   \n",
       "\n",
       "      CAPACITY  PISTON_COUNT  BLENDED_CONSUMPTION GEARBOX_TYPE  OUTPUT  \\\n",
       "0          5.0           4.0                  7.9       Manual    87.0   \n",
       "1         15.0           6.0                 16.5    Automatic   163.0   \n",
       "2          5.0           6.0                 10.0    Automatic   172.0   \n",
       "3         14.0           8.0                 13.9    Automatic   286.0   \n",
       "4          5.0           4.0                 11.9       Manual   118.0   \n",
       "...        ...           ...                  ...          ...     ...   \n",
       "4932       7.0           6.0                  9.6    Automatic   264.0   \n",
       "4933       7.0           8.0                 15.1    Automatic   266.0   \n",
       "4934       4.0           4.0                  6.1    Automatic    87.0   \n",
       "4935       5.0           4.0                  8.7    Automatic   115.0   \n",
       "4936       5.0           6.0                 12.2    Automatic   146.0   \n",
       "\n",
       "                   BODY_STYLE  EFFICIENCY_RATIO  YEARS_IN_SERVICE  MILEAGE  \\\n",
       "0                     COMPACT              1.60              10.0     17.0   \n",
       "1                 SUV - SMALL              1.52              10.0     19.0   \n",
       "2                    MID-SIZE              1.59              10.0     18.0   \n",
       "3     PICKUP TRUCK - STANDARD              1.42              10.0     19.0   \n",
       "4                    MID-SIZE              1.54              10.0     19.0   \n",
       "...                       ...               ...               ...      ...   \n",
       "4932                 MID-SIZE              1.31              10.0     19.0   \n",
       "4933                FULL-SIZE              1.47              10.0     17.0   \n",
       "4934                 MID-SIZE              1.33              10.0     17.0   \n",
       "4935                 MID-SIZE              1.63              10.0     16.0   \n",
       "4936                  COMPACT              1.51              10.0     17.0   \n",
       "\n",
       "      HIGHWAY_USAGE ENERGY_SOURCE  EFFICIENCY_RATING  \n",
       "0               5.6        Petrol               39.0  \n",
       "1              12.3        Petrol               23.0  \n",
       "2              10.4           Gas               30.0  \n",
       "3              13.6        Petrol               28.0  \n",
       "4               9.7        Petrol               26.0  \n",
       "...             ...           ...                ...  \n",
       "4932            7.3        Petrol               27.0  \n",
       "4933           12.9        Petrol               20.0  \n",
       "4934            6.8        Diesel               31.0  \n",
       "4935            7.0           Gas               33.0  \n",
       "4936           11.7        Petrol               12.0  \n",
       "\n",
       "[4937 rows x 17 columns]"
      ]
     },
     "execution_count": 22,
     "metadata": {},
     "output_type": "execute_result"
    }
   ],
   "source": [
    "df"
   ]
  },
  {
   "cell_type": "markdown",
   "metadata": {},
   "source": [
    "#### WE NEED TO CONVERT THE 'object-type' VALUES INTO 'numerical' "
   ]
  },
  {
   "cell_type": "code",
   "execution_count": 23,
   "metadata": {},
   "outputs": [
    {
     "name": "stdout",
     "output_type": "stream",
     "text": [
      "<class 'pandas.core.frame.DataFrame'>\n",
      "RangeIndex: 4937 entries, 0 to 4936\n",
      "Data columns (total 17 columns):\n",
      " #   Column               Non-Null Count  Dtype  \n",
      "---  ------               --------------  -----  \n",
      " 0   ID                   4937 non-null   int64  \n",
      " 1   PERFORMANCE_INDEX    4937 non-null   float64\n",
      " 2   EMISSIONS_CO2        4937 non-null   float64\n",
      " 3   URBAN_CONSUMPTION    4937 non-null   float64\n",
      " 4   DISPLACEMENT         4937 non-null   float64\n",
      " 5   CAPACITY             4937 non-null   float64\n",
      " 6   PISTON_COUNT         4937 non-null   float64\n",
      " 7   BLENDED_CONSUMPTION  4937 non-null   float64\n",
      " 8   GEARBOX_TYPE         4937 non-null   object \n",
      " 9   OUTPUT               4937 non-null   float64\n",
      " 10  BODY_STYLE           4937 non-null   object \n",
      " 11  EFFICIENCY_RATIO     4937 non-null   float64\n",
      " 12  YEARS_IN_SERVICE     4937 non-null   float64\n",
      " 13  MILEAGE              4937 non-null   float64\n",
      " 14  HIGHWAY_USAGE        4937 non-null   float64\n",
      " 15  ENERGY_SOURCE        4937 non-null   object \n",
      " 16  EFFICIENCY_RATING    4937 non-null   float64\n",
      "dtypes: float64(13), int64(1), object(3)\n",
      "memory usage: 655.8+ KB\n"
     ]
    }
   ],
   "source": [
    "df.info()"
   ]
  },
  {
   "cell_type": "markdown",
   "metadata": {},
   "source": [
    "#### Till now as we have seen, there are some unique values as mentioned. Summing them up we get:\n",
    "* GEARBOX_TYPE --> 3\n",
    "* ENERGY_SOURCE --> 3\n",
    "* BODY_STYLE --> 16\n",
    "\n",
    "#### It is obvious that we can easily apply One-Hot Encoding to 'GEARBOX_TYPE' & 'ENERGY_SOURCE'. But if we'll apply OHE to 'BODY_STYLE', then it'll increase the dimensionality and hence making the calculations complex. To handle this situation, we'll be proceeding in the following ways:\n",
    "\n",
    "1. Instead of using One-Hot Encoding, we can use --> TARGET ENCODING for 'BODY_STYLE' and for rest of the categorical features, we can go with One-Hot Encoding\n",
    "2. If results with both the above mentioned techniques are not satisfiable, we can use a module 'feature-engine' (PURELY OPTIONAL)\n",
    "\n",
    "#### FOR IMPLEMENTING THE ABOVE 3 POINTS, WE'LL MAKE 3 DIFFERENT DATASETS TO PREVENT AMBIGUITY"
   ]
  },
  {
   "cell_type": "code",
   "execution_count": 26,
   "metadata": {},
   "outputs": [
    {
     "data": {
      "text/plain": [
       "ID                     0\n",
       "PERFORMANCE_INDEX      0\n",
       "EMISSIONS_CO2          0\n",
       "URBAN_CONSUMPTION      0\n",
       "DISPLACEMENT           0\n",
       "CAPACITY               0\n",
       "PISTON_COUNT           0\n",
       "BLENDED_CONSUMPTION    0\n",
       "GEARBOX_TYPE           0\n",
       "OUTPUT                 0\n",
       "BODY_STYLE             0\n",
       "EFFICIENCY_RATIO       0\n",
       "YEARS_IN_SERVICE       0\n",
       "MILEAGE                0\n",
       "HIGHWAY_USAGE          0\n",
       "ENERGY_SOURCE          0\n",
       "EFFICIENCY_RATING      0\n",
       "dtype: int64"
      ]
     },
     "execution_count": 26,
     "metadata": {},
     "output_type": "execute_result"
    }
   ],
   "source": [
    "df.isnull().sum()"
   ]
  },
  {
   "cell_type": "code",
   "execution_count": 27,
   "metadata": {},
   "outputs": [
    {
     "data": {
      "text/plain": [
       "(4937, 17)"
      ]
     },
     "execution_count": 27,
     "metadata": {},
     "output_type": "execute_result"
    }
   ],
   "source": [
    "df.shape"
   ]
  },
  {
   "cell_type": "code",
   "execution_count": 38,
   "metadata": {},
   "outputs": [],
   "source": [
    "df_ohe=df.copy()\n",
    "df_target_encoding=df.copy()\n",
    "df_feature_engine=df.copy()"
   ]
  }
 ],
 "metadata": {
  "kernelspec": {
   "display_name": "Python 3",
   "language": "python",
   "name": "python3"
  },
  "language_info": {
   "codemirror_mode": {
    "name": "ipython",
    "version": 3
   },
   "file_extension": ".py",
   "mimetype": "text/x-python",
   "name": "python",
   "nbconvert_exporter": "python",
   "pygments_lexer": "ipython3",
   "version": "3.12.8"
  }
 },
 "nbformat": 4,
 "nbformat_minor": 2
}
